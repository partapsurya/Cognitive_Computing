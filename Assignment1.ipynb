{
 "cells": [
  {
   "cell_type": "code",
   "execution_count": 1,
   "metadata": {},
   "outputs": [
    {
     "name": "stdout",
     "output_type": "stream",
     "text": [
      "Anything you find cool\n"
     ]
    }
   ],
   "source": [
    "#1\n",
    "print (\"Anything you find cool\")"
   ]
  },
  {
   "cell_type": "code",
   "execution_count": 2,
   "metadata": {},
   "outputs": [
    {
     "name": "stdout",
     "output_type": "stream",
     "text": [
      "61\n"
     ]
    }
   ],
   "source": [
    "#2\n",
    "x = 25\n",
    "y = 36\n",
    "print(x + y)"
   ]
  },
  {
   "cell_type": "code",
   "execution_count": 3,
   "metadata": {},
   "outputs": [
    {
     "name": "stdout",
     "output_type": "stream",
     "text": [
      "Hello World! I am python\n"
     ]
    }
   ],
   "source": [
    "str1 = \"Hello World!\"\n",
    "str2 = \" I am python\"\n",
    "print(str1 + str2)"
   ]
  },
  {
   "cell_type": "code",
   "execution_count": 4,
   "metadata": {},
   "outputs": [
    {
     "name": "stdout",
     "output_type": "stream",
     "text": [
      "Hello World! 4567645\n"
     ]
    }
   ],
   "source": [
    "str1 = \"Hello World! \"\n",
    "num = 4567645\n",
    "sum = str1 + str(num)\n",
    "print(sum)"
   ]
  },
  {
   "cell_type": "code",
   "execution_count": 5,
   "metadata": {},
   "outputs": [],
   "source": [
    "#3\n",
    "#int num = int(input(\"Enter a number\"))\n",
    "#if num > 0:\n",
    "#    print(\"Positive!\")\n",
    "#elif num < 0:\n",
    "#    print(\"Negative!\")\n",
    "#else:\n",
    "#    print(\"Zero\")"
   ]
  },
  {
   "cell_type": "code",
   "execution_count": 6,
   "metadata": {},
   "outputs": [
    {
     "name": "stdout",
     "output_type": "stream",
     "text": [
      "Odd\n"
     ]
    }
   ],
   "source": [
    "num = int(input(\"Enter a number\"))\n",
    "if num%2==0:\n",
    "    print(\"Even\")\n",
    "else:\n",
    "    print(\"Odd\")"
   ]
  },
  {
   "cell_type": "code",
   "execution_count": 7,
   "metadata": {},
   "outputs": [
    {
     "name": "stdout",
     "output_type": "stream",
     "text": [
      "0\n",
      "1\n",
      "2\n",
      "3\n",
      "4\n",
      "5\n",
      "6\n",
      "7\n",
      "8\n",
      "9\n",
      "10\n"
     ]
    }
   ],
   "source": [
    "#4\n",
    "for i in range(11):\n",
    "    print(i)"
   ]
  },
  {
   "cell_type": "code",
   "execution_count": 8,
   "metadata": {},
   "outputs": [
    {
     "name": "stdout",
     "output_type": "stream",
     "text": [
      "1\n",
      "2\n",
      "3\n",
      "4\n",
      "5\n",
      "6\n",
      "7\n",
      "8\n",
      "9\n",
      "10\n"
     ]
    }
   ],
   "source": [
    "i = 0\n",
    "while i < 10:\n",
    "    i = i + 1\n",
    "    print(i)"
   ]
  },
  {
   "cell_type": "code",
   "execution_count": 9,
   "metadata": {},
   "outputs": [
    {
     "name": "stdout",
     "output_type": "stream",
     "text": [
      "4950\n"
     ]
    }
   ],
   "source": [
    "sum = 0\n",
    "for i in range (100):\n",
    "    sum = sum + i\n",
    "\n",
    "print(sum)"
   ]
  },
  {
   "cell_type": "code",
   "execution_count": 10,
   "metadata": {},
   "outputs": [
    {
     "name": "stdout",
     "output_type": "stream",
     "text": [
      "[25, 45, 35, 56, 24]\n",
      "\n",
      "\n",
      "The largest value is: 56\n",
      "The samllest value is: 24\n"
     ]
    }
   ],
   "source": [
    "#5\n",
    "list = [25,45,35,56,24]\n",
    "print(list)\n",
    "print(\"\\n\")\n",
    "largest = max(list)\n",
    "smallest = min(list)\n",
    "print(f\"The largest value is: {largest}\")\n",
    "print(f\"The samllest value is: {smallest}\")"
   ]
  },
  {
   "cell_type": "code",
   "execution_count": 11,
   "metadata": {},
   "outputs": [
    {
     "name": "stdout",
     "output_type": "stream",
     "text": [
      "[45, 645, 73, 23, 47, 16, 38, 92, 46, 92]\n",
      "\n",
      "\n",
      "Ascending order:\n",
      "[16, 23, 38, 45, 46, 47, 73, 92, 92, 645]\n",
      "Descending order: \n",
      "[645, 92, 92, 73, 47, 46, 45, 38, 23, 16]\n"
     ]
    }
   ],
   "source": [
    "list = [45, 645, 73, 23, 47, 16, 38, 92, 46, 92]\n",
    "print(list)\n",
    "print(\"\\n\")\n",
    "list.sort()\n",
    "print(\"Ascending order:\")\n",
    "print(list)\n",
    "list.reverse()\n",
    "print(\"Descending order: \")\n",
    "print(list)"
   ]
  },
  {
   "cell_type": "code",
   "execution_count": 12,
   "metadata": {},
   "outputs": [
    {
     "name": "stdout",
     "output_type": "stream",
     "text": [
      "The value of {'Name': 'Surya', 'Class': 'Second year', 'Mjr': 'Computer Science'} is Name\n",
      "\n",
      "\n",
      "Class : Second year\n"
     ]
    }
   ],
   "source": [
    "dict = {'Name':'Surya','Class':'Second year','Mjr':'Computer Science'}\n",
    "key = 'Name'\n",
    "value = print(f\"The value of {dict} is {key}\")\n",
    "print(\"\\n\")\n",
    "print(\"Class :\", dict['Class'])"
   ]
  },
  {
   "cell_type": "code",
   "execution_count": 13,
   "metadata": {},
   "outputs": [
    {
     "name": "stdout",
     "output_type": "stream",
     "text": [
      "Merge dict: {'Name': 'Surya', 'Rno': '102317195', 'Marks': 95, 'College': 'Thapar University', 'State': 'Punjab', 'City': 'Patiala'}\n",
      "Merge dict: {'Name': 'Surya', 'Rno': '102317195', 'Marks': 95, 'College': 'Thapar University', 'State': 'Punjab', 'City': 'Patiala'}\n"
     ]
    }
   ],
   "source": [
    "dict1 = {'Name' : 'Surya', 'Rno': '102317195', 'Marks': 95}\n",
    "dict2 = {'College' : 'Thapar University', 'State': 'Punjab', 'City': 'Patiala'}\n",
    "merge_dict = {**dict1, **dict2}\n",
    "print(f\"Merge dict: {merge_dict}\")\n",
    "\n",
    "##or\n",
    "merge_dict = dict1.copy()\n",
    "merge_dict.update(dict2)\n",
    "print(f\"Merge dict: {merge_dict}\")"
   ]
  },
  {
   "cell_type": "code",
   "execution_count": 14,
   "metadata": {},
   "outputs": [
    {
     "name": "stdout",
     "output_type": "stream",
     "text": [
      "The total number of vowels in 'surya' is 2\n"
     ]
    }
   ],
   "source": [
    "word = input(\"Enter a word: \")\n",
    "def countvowels(word):\n",
    "    sum = 0\n",
    "    vowels = ('a', 'e', 'i', 'o', 'u', 'A', 'E', 'I', 'O', 'U') ##inside bracket\n",
    "    for char in word:\n",
    "        if char in vowels:\n",
    "            sum += 1\n",
    "    return sum\n",
    "\n",
    "key = countvowels(word)\n",
    "print(f\"The total number of vowels in '{word}' is {key}\")"
   ]
  },
  {
   "cell_type": "code",
   "execution_count": 15,
   "metadata": {},
   "outputs": [
    {
     "name": "stdout",
     "output_type": "stream",
     "text": [
      "The string in reverse is: ayrus\n"
     ]
    }
   ],
   "source": [
    "string = input(\"Enter a word\")\n",
    "reverse_string = string[::-1]\n",
    "print(f\"The string in reverse is: {reverse_string}\")"
   ]
  },
  {
   "cell_type": "code",
   "execution_count": 16,
   "metadata": {},
   "outputs": [
    {
     "name": "stdout",
     "output_type": "stream",
     "text": [
      "surya is Not a palindrome\n"
     ]
    }
   ],
   "source": [
    "word = input(\"Enter a word\")\n",
    "\n",
    "def check_palidrome(word):\n",
    "    word.lower()  ##all letter lowercase\n",
    "    reverse_word = word[::-1] ##reverse the word\n",
    "    if word == reverse_word:  #comparision\n",
    "        print(f\"{word} is a Palindrome string\")\n",
    "    else:\n",
    "        print(f\"{word} is Not a palindrome\")\n",
    "\n",
    "check_palidrome(word)"
   ]
  },
  {
   "cell_type": "code",
   "execution_count": 17,
   "metadata": {},
   "outputs": [
    {
     "name": "stdout",
     "output_type": "stream",
     "text": [
      "print(\"Hello World\")\n",
      "Hello World\n"
     ]
    }
   ],
   "source": [
    "with open('NewFile.py','w') as file:\n",
    "    file.write('print(\"Hello World\")')\n",
    "\n",
    "with open('NewFile.py', 'r') as file:\n",
    "    content = file.read()\n",
    "    print(content)\n",
    "\n",
    "exec(content)"
   ]
  },
  {
   "cell_type": "code",
   "execution_count": 18,
   "metadata": {},
   "outputs": [
    {
     "name": "stdout",
     "output_type": "stream",
     "text": [
      "Content before updating: Sample Text? \n",
      "Content after updating: Sample Text? Oh damn, it really is a Sample text\n"
     ]
    }
   ],
   "source": [
    "with open('NewFile.txt', 'w') as file:\n",
    "    file.write('Sample Text? ')\n",
    "\n",
    "with open('NewFile.txt', 'r') as file:\n",
    "    content = file.read()\n",
    "\n",
    "with open('NewFile.txt', 'a') as file: ##a = append mode\n",
    "    file.write('Oh damn, it really is a Sample text')\n",
    "\n",
    "with open('NewFile.txt', 'r') as file:\n",
    "    updated_content = file.read()\n",
    "\n",
    "print(f\"Content before updating: {content}\")\n",
    "print(f\"Content after updating: {updated_content}\")"
   ]
  },
  {
   "cell_type": "code",
   "execution_count": 19,
   "metadata": {},
   "outputs": [
    {
     "name": "stdout",
     "output_type": "stream",
     "text": [
      "Total no. of lines = 1\n"
     ]
    }
   ],
   "source": [
    "with open('NewFile.txt', 'r') as file:\n",
    "    lines = file.readlines()\n",
    "    lines_no = len(lines)\n",
    "\n",
    "print(f\"Total no. of lines = {lines_no}\")"
   ]
  },
  {
   "cell_type": "code",
   "execution_count": 20,
   "metadata": {},
   "outputs": [],
   "source": [
    "num = int(input(\"Enter a numerator: \"))\n",
    "dem = int(input(\"Enter a denominaor: \"))\n",
    "try:\n",
    "    numerator = num\n",
    "    denominator = dem\n",
    "    resulty = numerator/denominator\n",
    "except ZeroDivisionError:\n",
    "    print(\"Division by zero is not allowed!\")"
   ]
  },
  {
   "cell_type": "code",
   "execution_count": 21,
   "metadata": {},
   "outputs": [
    {
     "name": "stdout",
     "output_type": "stream",
     "text": [
      "The number you entered is: 2\n"
     ]
    }
   ],
   "source": [
    "try:\n",
    "    number = int(input(\"Enter a number\"))\n",
    "    print(f\"The number you entered is: {number}\")\n",
    "except ValueError:\n",
    "    print(\"Invalid input! Please enter a number\")"
   ]
  },
  {
   "cell_type": "code",
   "execution_count": 22,
   "metadata": {},
   "outputs": [
    {
     "name": "stdout",
     "output_type": "stream",
     "text": [
      "File not found!\n",
      "Using finally\n"
     ]
    }
   ],
   "source": [
    "try:\n",
    "    file= open('New.txt', 'r')\n",
    "    content = file.read()\n",
    "    print(content)\n",
    "\n",
    "except FileNotFoundError:\n",
    "    print(\"File not found!\")\n",
    "    \n",
    "finally:\n",
    "    print(\"Using finally\")\n",
    "    if 'file' in locals():\n",
    "        file.close()"
   ]
  },
  {
   "cell_type": "code",
   "execution_count": 23,
   "metadata": {},
   "outputs": [
    {
     "name": "stdout",
     "output_type": "stream",
     "text": [
      "Generating a random integer: 10\n"
     ]
    }
   ],
   "source": [
    "import random\n",
    "\n",
    "random_int = random.randint(1,100)\n",
    "print(f\"Generating a random integer: {random_int}\")"
   ]
  },
  {
   "cell_type": "code",
   "execution_count": 24,
   "metadata": {},
   "outputs": [
    {
     "name": "stdout",
     "output_type": "stream",
     "text": [
      "77 is not a prime number\n"
     ]
    }
   ],
   "source": [
    "import random\n",
    "\n",
    "rand_int = random.randint(1, 100)\n",
    "\n",
    "def is_prime(num):\n",
    "    if num <= 1:\n",
    "        return False\n",
    "    for i in range(2, int(num ** 0.5) + 1):\n",
    "        if num % i == 0:\n",
    "            return False\n",
    "    return True\n",
    "\n",
    "if is_prime(rand_int):\n",
    "    print(f\"{rand_int} is a prime number\")\n",
    "else:\n",
    "    print(f\"{rand_int} is not a prime number\")\n",
    "\n"
   ]
  },
  {
   "cell_type": "code",
   "execution_count": null,
   "metadata": {},
   "outputs": [],
   "source": []
  },
  {
   "cell_type": "code",
   "execution_count": 25,
   "metadata": {},
   "outputs": [
    {
     "name": "stdout",
     "output_type": "stream",
     "text": [
      "You rolled a 1\n"
     ]
    }
   ],
   "source": [
    "import random\n",
    "\n",
    "def roll_die():\n",
    "    return random.randint(1, 6)\n",
    "\n",
    "result = roll_die()\n",
    "print(f\"You rolled a {result}\")\n"
   ]
  },
  {
   "cell_type": "code",
   "execution_count": 26,
   "metadata": {},
   "outputs": [
    {
     "name": "stdout",
     "output_type": "stream",
     "text": [
      "Shuffled list: [6, 9, 3, 5, 8, 1, 7, 4, 2, 10]\n"
     ]
    }
   ],
   "source": [
    "import random\n",
    "\n",
    "numbers = [1, 2, 3, 4, 5, 6, 7, 8, 9, 10]\n",
    "random.shuffle(numbers)\n",
    "print(f\"Shuffled list: {numbers}\")\n"
   ]
  },
  {
   "cell_type": "code",
   "execution_count": 27,
   "metadata": {},
   "outputs": [
    {
     "name": "stdout",
     "output_type": "stream",
     "text": [
      "Randomly selected item: date\n"
     ]
    }
   ],
   "source": [
    "import random\n",
    "\n",
    "items = ['apple', 'banana', 'cherry', 'date', 'elderberry']\n",
    "random_item = random.choice(items)\n",
    "print(f\"Randomly selected item: {random_item}\")\n"
   ]
  },
  {
   "cell_type": "code",
   "execution_count": 28,
   "metadata": {},
   "outputs": [
    {
     "name": "stdout",
     "output_type": "stream",
     "text": [
      "Randomly generated password: sc.\"5\\<)WN1`\n"
     ]
    }
   ],
   "source": [
    "import random\n",
    "import string\n",
    "\n",
    "def generate_password(length):\n",
    "    characters = string.ascii_letters + string.digits + string.punctuation\n",
    "    password = ''.join(random.choice(characters) for _ in range(length))\n",
    "    return password\n",
    "\n",
    "length = 12\n",
    "random_password = generate_password(length)\n",
    "print(f\"Randomly generated password: {random_password}\")\n"
   ]
  },
  {
   "cell_type": "code",
   "execution_count": 29,
   "metadata": {},
   "outputs": [
    {
     "name": "stdout",
     "output_type": "stream",
     "text": [
      "Randomly picked card: K of Hearts\n"
     ]
    }
   ],
   "source": [
    "import random\n",
    "\n",
    "suits = ['Hearts', 'Diamonds', 'Clubs', 'Spades']\n",
    "ranks = ['2', '3', '4', '5', '6', '7', '8', '9', '10', 'J', 'Q', 'K', 'A']\n",
    "\n",
    "deck = [f\"{rank} of {suit}\" for suit in suits for rank in ranks]\n",
    "random_card = random.choice(deck)\n",
    "print(f\"Randomly picked card: {random_card}\")\n"
   ]
  },
  {
   "cell_type": "code",
   "execution_count": 30,
   "metadata": {},
   "outputs": [
    {
     "name": "stdout",
     "output_type": "stream",
     "text": [
      "Usage: python program.py <number1> <number2>\n"
     ]
    }
   ],
   "source": [
    "import sys\n",
    "\n",
    "if len(sys.argv) != 3:\n",
    "    print(\"Usage: python program.py <number1> <number2>\")\n",
    "else:\n",
    "    try:\n",
    "        number1 = float(sys.argv[1])\n",
    "        number2 = float(sys.argv[2])\n",
    "        result = number1 + number2\n",
    "        print(f\"The sum of {number1} and {number2} is {result}\")\n",
    "    except ValueError:\n",
    "        print(\"Please provide two valid numbers.\")\n"
   ]
  },
  {
   "cell_type": "code",
   "execution_count": 31,
   "metadata": {},
   "outputs": [
    {
     "name": "stdout",
     "output_type": "stream",
     "text": [
      "The length of the string '--f=/Users/arpit/Library/Jupyter/runtime/kernel-v3f1f15426117a1117244ceecb0c56ffc66658d446.json' is 95\n"
     ]
    }
   ],
   "source": [
    "import sys\n",
    "\n",
    "if len(sys.argv) != 2:\n",
    "    print(\"Usage: python program.py <string>\")\n",
    "else:\n",
    "    input_string = sys.argv[1]\n",
    "    string_length = len(input_string)\n",
    "    print(f\"The length of the string '{input_string}' is {string_length}\")\n"
   ]
  },
  {
   "cell_type": "code",
   "execution_count": 32,
   "metadata": {},
   "outputs": [
    {
     "name": "stdout",
     "output_type": "stream",
     "text": [
      "The square root of 8.0 is 2.8284271247461903\n"
     ]
    }
   ],
   "source": [
    "import math\n",
    "\n",
    "num = float(input(\"Enter number: \"))\n",
    "square_root = math.sqrt(num)\n",
    "print(f\"The square root of {num} is {square_root}\")\n"
   ]
  },
  {
   "cell_type": "code",
   "execution_count": 33,
   "metadata": {},
   "outputs": [
    {
     "name": "stdout",
     "output_type": "stream",
     "text": [
      "The current date and time is 2025-01-13 19:38:10.839810\n"
     ]
    }
   ],
   "source": [
    "from datetime import datetime\n",
    "\n",
    "current_datetime = datetime.now()\n",
    "print(f\"The current date and time is {current_datetime}\")\n"
   ]
  },
  {
   "cell_type": "code",
   "execution_count": 34,
   "metadata": {},
   "outputs": [
    {
     "name": "stdout",
     "output_type": "stream",
     "text": [
      "Files and directories in the current directory:\n",
      "NewFile.py\n",
      "NewFile.txt\n",
      "Assignment1.ipynb\n"
     ]
    }
   ],
   "source": [
    "import os\n",
    "\n",
    "files_and_dirs = os.listdir('.')\n",
    "print(\"Files and directories in the current directory:\")\n",
    "for item in files_and_dirs:\n",
    "    print(item)"
   ]
  }
 ],
 "metadata": {
  "kernelspec": {
   "display_name": "Python 3",
   "language": "python",
   "name": "python3"
  },
  "language_info": {
   "codemirror_mode": {
    "name": "ipython",
    "version": 3
   },
   "file_extension": ".py",
   "mimetype": "text/x-python",
   "name": "python",
   "nbconvert_exporter": "python",
   "pygments_lexer": "ipython3",
   "version": "3.9.6"
  }
 },
 "nbformat": 4,
 "nbformat_minor": 2
}
